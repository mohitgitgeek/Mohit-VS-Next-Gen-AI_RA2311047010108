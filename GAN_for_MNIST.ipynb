{
  "cells": [
    {
      "cell_type": "code",
      "execution_count": 1,
      "metadata": {
        "colab": {
          "base_uri": "https://localhost:8080/"
        },
        "id": "lDEYbaxkhBA3",
        "outputId": "62f23a98-f654-4de0-d846-872ffb006cd7"
      },
      "outputs": [
        {
          "output_type": "stream",
          "name": "stdout",
          "text": [
            "Requirement already satisfied: torch in /usr/local/lib/python3.10/dist-packages (2.4.1+cu121)\n",
            "Requirement already satisfied: filelock in /usr/local/lib/python3.10/dist-packages (from torch) (3.16.1)\n",
            "Requirement already satisfied: typing-extensions>=4.8.0 in /usr/local/lib/python3.10/dist-packages (from torch) (4.12.2)\n",
            "Requirement already satisfied: sympy in /usr/local/lib/python3.10/dist-packages (from torch) (1.13.3)\n",
            "Requirement already satisfied: networkx in /usr/local/lib/python3.10/dist-packages (from torch) (3.3)\n",
            "Requirement already satisfied: jinja2 in /usr/local/lib/python3.10/dist-packages (from torch) (3.1.4)\n",
            "Requirement already satisfied: fsspec in /usr/local/lib/python3.10/dist-packages (from torch) (2024.6.1)\n",
            "Requirement already satisfied: MarkupSafe>=2.0 in /usr/local/lib/python3.10/dist-packages (from jinja2->torch) (2.1.5)\n",
            "Requirement already satisfied: mpmath<1.4,>=1.1.0 in /usr/local/lib/python3.10/dist-packages (from sympy->torch) (1.3.0)\n"
          ]
        }
      ],
      "source": [
        "pip install torch"
      ]
    },
    {
      "cell_type": "code",
      "execution_count": 2,
      "metadata": {
        "colab": {
          "base_uri": "https://localhost:8080/"
        },
        "id": "HDLI5ue9wXsf",
        "outputId": "67597f38-73e6-44e8-ef5c-668f5b095964"
      },
      "outputs": [
        {
          "output_type": "stream",
          "name": "stdout",
          "text": [
            "Requirement already satisfied: torchvision in /usr/local/lib/python3.10/dist-packages (0.19.1+cu121)\n",
            "Requirement already satisfied: numpy in /usr/local/lib/python3.10/dist-packages (from torchvision) (1.26.4)\n",
            "Requirement already satisfied: torch==2.4.1 in /usr/local/lib/python3.10/dist-packages (from torchvision) (2.4.1+cu121)\n",
            "Requirement already satisfied: pillow!=8.3.*,>=5.3.0 in /usr/local/lib/python3.10/dist-packages (from torchvision) (10.4.0)\n",
            "Requirement already satisfied: filelock in /usr/local/lib/python3.10/dist-packages (from torch==2.4.1->torchvision) (3.16.1)\n",
            "Requirement already satisfied: typing-extensions>=4.8.0 in /usr/local/lib/python3.10/dist-packages (from torch==2.4.1->torchvision) (4.12.2)\n",
            "Requirement already satisfied: sympy in /usr/local/lib/python3.10/dist-packages (from torch==2.4.1->torchvision) (1.13.3)\n",
            "Requirement already satisfied: networkx in /usr/local/lib/python3.10/dist-packages (from torch==2.4.1->torchvision) (3.3)\n",
            "Requirement already satisfied: jinja2 in /usr/local/lib/python3.10/dist-packages (from torch==2.4.1->torchvision) (3.1.4)\n",
            "Requirement already satisfied: fsspec in /usr/local/lib/python3.10/dist-packages (from torch==2.4.1->torchvision) (2024.6.1)\n",
            "Requirement already satisfied: MarkupSafe>=2.0 in /usr/local/lib/python3.10/dist-packages (from jinja2->torch==2.4.1->torchvision) (2.1.5)\n",
            "Requirement already satisfied: mpmath<1.4,>=1.1.0 in /usr/local/lib/python3.10/dist-packages (from sympy->torch==2.4.1->torchvision) (1.3.0)\n"
          ]
        }
      ],
      "source": [
        "pip install torchvision"
      ]
    },
    {
      "cell_type": "code",
      "execution_count": null,
      "metadata": {
        "id": "Y5cCh3dEwd-c"
      },
      "outputs": [],
      "source": [
        "import torch\n",
        "import torch.nn as nn\n",
        "import torch.optim as optim\n",
        "from torchvision import datasets, transforms\n",
        "from torchvision.utils import save_image\n",
        "import matplotlib.pyplot as plt\n"
      ]
    },
    {
      "cell_type": "code",
      "execution_count": null,
      "metadata": {
        "colab": {
          "base_uri": "https://localhost:8080/"
        },
        "id": "WORWmNhFwgvY",
        "outputId": "80caf677-fe26-4648-dd77-1735bfcf6aa2"
      },
      "outputs": [
        {
          "name": "stdout",
          "output_type": "stream",
          "text": [
            "Downloading http://fashion-mnist.s3-website.eu-central-1.amazonaws.com/train-images-idx3-ubyte.gz\n",
            "Downloading http://fashion-mnist.s3-website.eu-central-1.amazonaws.com/train-images-idx3-ubyte.gz to ./data/FashionMNIST/raw/train-images-idx3-ubyte.gz\n"
          ]
        },
        {
          "name": "stderr",
          "output_type": "stream",
          "text": [
            "100%|██████████| 26421880/26421880 [00:01<00:00, 19065354.70it/s]\n"
          ]
        },
        {
          "name": "stdout",
          "output_type": "stream",
          "text": [
            "Extracting ./data/FashionMNIST/raw/train-images-idx3-ubyte.gz to ./data/FashionMNIST/raw\n",
            "\n",
            "Downloading http://fashion-mnist.s3-website.eu-central-1.amazonaws.com/train-labels-idx1-ubyte.gz\n",
            "Downloading http://fashion-mnist.s3-website.eu-central-1.amazonaws.com/train-labels-idx1-ubyte.gz to ./data/FashionMNIST/raw/train-labels-idx1-ubyte.gz\n"
          ]
        },
        {
          "name": "stderr",
          "output_type": "stream",
          "text": [
            "100%|██████████| 29515/29515 [00:00<00:00, 308375.51it/s]\n"
          ]
        },
        {
          "name": "stdout",
          "output_type": "stream",
          "text": [
            "Extracting ./data/FashionMNIST/raw/train-labels-idx1-ubyte.gz to ./data/FashionMNIST/raw\n",
            "\n",
            "Downloading http://fashion-mnist.s3-website.eu-central-1.amazonaws.com/t10k-images-idx3-ubyte.gz\n",
            "Downloading http://fashion-mnist.s3-website.eu-central-1.amazonaws.com/t10k-images-idx3-ubyte.gz to ./data/FashionMNIST/raw/t10k-images-idx3-ubyte.gz\n"
          ]
        },
        {
          "name": "stderr",
          "output_type": "stream",
          "text": [
            "100%|██████████| 4422102/4422102 [00:00<00:00, 5525766.94it/s]\n"
          ]
        },
        {
          "name": "stdout",
          "output_type": "stream",
          "text": [
            "Extracting ./data/FashionMNIST/raw/t10k-images-idx3-ubyte.gz to ./data/FashionMNIST/raw\n",
            "\n",
            "Downloading http://fashion-mnist.s3-website.eu-central-1.amazonaws.com/t10k-labels-idx1-ubyte.gz\n",
            "Downloading http://fashion-mnist.s3-website.eu-central-1.amazonaws.com/t10k-labels-idx1-ubyte.gz to ./data/FashionMNIST/raw/t10k-labels-idx1-ubyte.gz\n"
          ]
        },
        {
          "name": "stderr",
          "output_type": "stream",
          "text": [
            "100%|██████████| 5148/5148 [00:00<00:00, 4786583.24it/s]"
          ]
        },
        {
          "name": "stdout",
          "output_type": "stream",
          "text": [
            "Extracting ./data/FashionMNIST/raw/t10k-labels-idx1-ubyte.gz to ./data/FashionMNIST/raw\n",
            "\n"
          ]
        },
        {
          "name": "stderr",
          "output_type": "stream",
          "text": [
            "\n"
          ]
        }
      ],
      "source": [
        "transform = transforms.Compose([\n",
        "    transforms.ToTensor(),\n",
        "    transforms.Normalize((0.5,), (0.5,))\n",
        "])\n",
        "\n",
        "train_dataset = datasets.FashionMNIST(root='./data', train=True, transform=transform, download=True)\n",
        "train_loader = torch.utils.data.DataLoader(dataset=train_dataset, batch_size=64, shuffle=True)\n"
      ]
    },
    {
      "cell_type": "code",
      "execution_count": null,
      "metadata": {
        "id": "Sg4kuK6Xwkkm"
      },
      "outputs": [],
      "source": [
        "class Generator(nn.Module):\n",
        "    def __init__(self):\n",
        "        super(Generator, self).__init__()\n",
        "        self.main = nn.Sequential(\n",
        "            nn.Linear(100, 256),\n",
        "            nn.ReLU(True),\n",
        "            nn.Linear(256, 512),\n",
        "            nn.ReLU(True),\n",
        "            nn.Linear(512, 1024),\n",
        "            nn.ReLU(True),\n",
        "            nn.Linear(1024, 784),\n",
        "            nn.Tanh()\n",
        "        )\n",
        "\n",
        "    def forward(self, x):\n",
        "        return self.main(x).view(-1, 1, 28, 28)\n",
        "\n",
        "class Discriminator(nn.Module):\n",
        "    def __init__(self):\n",
        "        super(Discriminator, self).__init__()\n",
        "        self.main = nn.Sequential(\n",
        "            nn.Linear(784, 1024),\n",
        "            nn.LeakyReLU(0.2, inplace=True),\n",
        "            nn.Linear(1024, 512),\n",
        "            nn.LeakyReLU(0.2, inplace=True),\n",
        "            nn.Linear(512, 256),\n",
        "            nn.LeakyReLU(0.2, inplace=True),\n",
        "            nn.Linear(256, 1),\n",
        "            nn.Sigmoid()\n",
        "        )\n",
        "\n",
        "    def forward(self, x):\n",
        "        return self.main(x.view(-1, 784))\n"
      ]
    },
    {
      "cell_type": "code",
      "execution_count": null,
      "metadata": {
        "id": "2hGE5KRWwk3G"
      },
      "outputs": [],
      "source": [
        "generator = Generator()\n",
        "discriminator = Discriminator()\n",
        "\n",
        "criterion = nn.BCELoss()\n",
        "optimizer_g = optim.Adam(generator.parameters(), lr=0.0002)\n",
        "optimizer_d = optim.Adam(discriminator.parameters(), lr=0.0002)\n"
      ]
    },
    {
      "cell_type": "code",
      "execution_count": null,
      "metadata": {
        "colab": {
          "background_save": true,
          "base_uri": "https://localhost:8080/"
        },
        "id": "CiOr-18ZwoHW",
        "outputId": "1b8c2e69-89a2-4a94-d5c9-7038215f84a9"
      },
      "outputs": [
        {
          "name": "stdout",
          "output_type": "stream",
          "text": [
            "Epoch [1/50], d_loss: 0.07571563124656677, g_loss: 8.023153305053711\n",
            "Epoch [2/50], d_loss: 0.4975324869155884, g_loss: 2.8558247089385986\n",
            "Epoch [3/50], d_loss: 0.2196296900510788, g_loss: 2.7006988525390625\n",
            "Epoch [4/50], d_loss: 0.2318534255027771, g_loss: 3.129263401031494\n",
            "Epoch [5/50], d_loss: 0.321120947599411, g_loss: 2.6653733253479004\n",
            "Epoch [6/50], d_loss: 0.7022336721420288, g_loss: 4.1879706382751465\n",
            "Epoch [7/50], d_loss: 0.1618805229663849, g_loss: 3.821033477783203\n",
            "Epoch [8/50], d_loss: 0.4705049991607666, g_loss: 3.326803684234619\n",
            "Epoch [9/50], d_loss: 0.4955553412437439, g_loss: 4.745726585388184\n",
            "Epoch [10/50], d_loss: 0.5375604033470154, g_loss: 4.719780921936035\n",
            "Epoch [11/50], d_loss: 0.352304071187973, g_loss: 4.348631858825684\n",
            "Epoch [12/50], d_loss: 0.17403265833854675, g_loss: 5.401487350463867\n",
            "Epoch [13/50], d_loss: 0.6686909794807434, g_loss: 3.6096272468566895\n",
            "Epoch [14/50], d_loss: 0.26058197021484375, g_loss: 3.4947125911712646\n",
            "Epoch [15/50], d_loss: 0.257801353931427, g_loss: 3.405963659286499\n",
            "Epoch [16/50], d_loss: 0.360131174325943, g_loss: 3.160499334335327\n",
            "Epoch [17/50], d_loss: 0.5293696522712708, g_loss: 2.521531820297241\n",
            "Epoch [18/50], d_loss: 1.1935243606567383, g_loss: 2.774707555770874\n",
            "Epoch [19/50], d_loss: 0.22936756908893585, g_loss: 1.9887142181396484\n",
            "Epoch [20/50], d_loss: 0.9516320824623108, g_loss: 3.6089422702789307\n",
            "Epoch [21/50], d_loss: 1.152048945426941, g_loss: 1.5116444826126099\n",
            "Epoch [22/50], d_loss: 0.6797524094581604, g_loss: 2.6295783519744873\n",
            "Epoch [23/50], d_loss: 0.6134588718414307, g_loss: 3.042813777923584\n",
            "Epoch [24/50], d_loss: 0.5841507911682129, g_loss: 2.7976372241973877\n",
            "Epoch [25/50], d_loss: 0.4122861325740814, g_loss: 3.244485378265381\n",
            "Epoch [26/50], d_loss: 1.6346650123596191, g_loss: 1.9859287738800049\n",
            "Epoch [27/50], d_loss: 0.7245899438858032, g_loss: 2.093946933746338\n",
            "Epoch [28/50], d_loss: 0.6231246590614319, g_loss: 2.1835107803344727\n",
            "Epoch [29/50], d_loss: 1.5278136730194092, g_loss: 1.7746965885162354\n",
            "Epoch [30/50], d_loss: 0.567527174949646, g_loss: 2.3890817165374756\n",
            "Epoch [31/50], d_loss: 0.8765829801559448, g_loss: 1.7387977838516235\n",
            "Epoch [32/50], d_loss: 1.5376579761505127, g_loss: 3.1099774837493896\n",
            "Epoch [33/50], d_loss: 0.6614492535591125, g_loss: 2.80627703666687\n",
            "Epoch [34/50], d_loss: 0.9676860570907593, g_loss: 3.443438768386841\n",
            "Epoch [35/50], d_loss: 0.34654700756073, g_loss: 2.816890001296997\n",
            "Epoch [36/50], d_loss: 0.8881617784500122, g_loss: 1.5782146453857422\n",
            "Epoch [37/50], d_loss: 0.642879843711853, g_loss: 2.4115941524505615\n",
            "Epoch [38/50], d_loss: 0.8788914084434509, g_loss: 1.754428505897522\n",
            "Epoch [39/50], d_loss: 0.20039698481559753, g_loss: 3.536020278930664\n",
            "Epoch [40/50], d_loss: 0.5748390555381775, g_loss: 1.8704391717910767\n",
            "Epoch [41/50], d_loss: 1.1212018728256226, g_loss: 1.4836786985397339\n",
            "Epoch [42/50], d_loss: 0.816684901714325, g_loss: 1.8576937913894653\n",
            "Epoch [43/50], d_loss: 0.6471658945083618, g_loss: 3.706709146499634\n",
            "Epoch [44/50], d_loss: 0.9380893707275391, g_loss: 2.452322483062744\n",
            "Epoch [45/50], d_loss: 0.506497859954834, g_loss: 2.3414454460144043\n",
            "Epoch [46/50], d_loss: 0.5817743539810181, g_loss: 2.1410865783691406\n",
            "Epoch [47/50], d_loss: 0.5104507207870483, g_loss: 2.2033779621124268\n",
            "Epoch [48/50], d_loss: 0.4513355493545532, g_loss: 2.9474403858184814\n",
            "Epoch [49/50], d_loss: 0.5855840444564819, g_loss: 2.2132787704467773\n",
            "Epoch [50/50], d_loss: 0.5023783445358276, g_loss: 2.9029526710510254\n"
          ]
        }
      ],
      "source": [
        "num_epochs = 50\n",
        "for epoch in range(num_epochs):\n",
        "    for i, (images, _) in enumerate(train_loader):\n",
        "        # Train Discriminator\n",
        "        real_labels = torch.ones(images.size(0), 1)\n",
        "        fake_labels = torch.zeros(images.size(0), 1)\n",
        "\n",
        "        outputs = discriminator(images)\n",
        "        d_loss_real = criterion(outputs, real_labels)\n",
        "        real_score = outputs\n",
        "\n",
        "        z = torch.randn(images.size(0), 100)\n",
        "        fake_images = generator(z)\n",
        "        outputs = discriminator(fake_images.detach())\n",
        "        d_loss_fake = criterion(outputs, fake_labels)\n",
        "        fake_score = outputs\n",
        "\n",
        "        d_loss = d_loss_real + d_loss_fake\n",
        "        optimizer_d.zero_grad()\n",
        "        d_loss.backward()\n",
        "        optimizer_d.step()\n",
        "\n",
        "        # Train Generator\n",
        "        outputs = discriminator(fake_images)\n",
        "        g_loss = criterion(outputs, real_labels)\n",
        "\n",
        "        optimizer_g.zero_grad()\n",
        "        g_loss.backward()\n",
        "        optimizer_g.step()\n",
        "\n",
        "    print(f'Epoch [{epoch+1}/{num_epochs}], d_loss: {d_loss.item()}, g_loss: {g_loss.item()}')\n",
        "\n",
        "    if (epoch+1) % 10 == 0:\n",
        "        save_image(fake_images, f'fake_images_{epoch+1}.png')\n"
      ]
    },
    {
      "cell_type": "code",
      "execution_count": null,
      "metadata": {
        "id": "BPtA4A34wpx4"
      },
      "outputs": [],
      "source": []
    }
  ],
  "metadata": {
    "colab": {
      "provenance": []
    },
    "kernelspec": {
      "display_name": "Python 3",
      "name": "python3"
    },
    "language_info": {
      "name": "python"
    }
  },
  "nbformat": 4,
  "nbformat_minor": 0
}